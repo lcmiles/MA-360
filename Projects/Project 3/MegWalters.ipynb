{
 "cells": [
  {
   "cell_type": "code",
   "execution_count": 98,
   "id": "02f77f5a",
   "metadata": {},
   "outputs": [
    {
     "name": "stdout",
     "output_type": "stream",
     "text": [
      "Overwriting permutation.py\n"
     ]
    }
   ],
   "source": [
    "%%writefile permutation.py\n",
    "\n",
    "import numpy as np\n",
    "import random\n",
    "import math\n",
    "import bisect\n",
    "import matplotlib.pyplot as plt\n",
    "\n",
    "def patience_sort(permlist):\n",
    "    #This function creates a multi-dimensional array\n",
    "    #containing all of the stacks\n",
    "    #of the patience sorting algorithm\n",
    "    #Input :\n",
    "    # permlist : list of numbers to sort\n",
    "    #Output :\n",
    "    # len( stacks ) : returns the numbers of stacks\n",
    "    #\n",
    "    \n",
    "    stacks = []\n",
    "    len_stacks =[] #variable to keep track of number of stacks\n",
    "    for x in permlist : #iterate through list of numbers\n",
    "        temp_stack = [x]\n",
    "        i = bisect.bisect_left(stacks, temp_stack)\n",
    "        #determines where number should be inserted if\n",
    "        # it was to be inserted in order\n",
    "        if i != len(stacks) :\n",
    "            # if number is not larger than all numbers on top\n",
    "            #of stacks\n",
    "            stacks[i].insert(0,x) #put number on appropriate stack\n",
    "            len_stacks.append(len(stacks)) #update length variable\n",
    "        else :\n",
    "            stacks.append(temp_stack) #create new stack\n",
    "            len_stacks.append(len(stacks)) #update length variable\n",
    "        \n",
    "    return len_stacks[-1]\n",
    "\n",
    "        \n",
    "def fisheryates(length) :\n",
    "    #uses Fisher-Yates algorithm to create random permutation\n",
    "    #Input :\n",
    "    # length : desired length of permutation\n",
    "    #Output :\n",
    "    # L : random permutation\n",
    "    \n",
    "    L=[1] #begin with only 1 in the list\n",
    "    for i in range(length-1):\n",
    "        #iterate to create a list of length ’length’\n",
    "        m=i+2 # initialize / update m\n",
    "        k=random.randint(1,m) \n",
    "        #generate a random integer between 1 and m.\n",
    "        if k==m:\n",
    "            L.append(m) #append m to the end of the list\n",
    "        else :\n",
    "            L.insert(k-1,m) \n",
    "            #insert m in (k−1)st place in the list\n",
    "    \n",
    "    return L #return random permutation\n",
    "\n",
    "\n",
    "def mallows(length,q) :\n",
    "#uses the Mallows measure to create a permutation\n",
    "#Input :\n",
    "# length : desired length of permutation\n",
    "# q : 1−probability of success \n",
    "#  so expectation of geometric is 1/(1-q) \n",
    "#   which gives the approx avg number of inversions-per-length\n",
    "#Output :\n",
    "# L : permutation\n",
    "\n",
    "    L=[1] #begin with only 1 in the list\n",
    "\n",
    "    for i in range(length-1):\n",
    "    #iterate to create list of length 'length'\n",
    "        m=i+2 # i n i t i a l i z e / u p d a te m\n",
    "        x=np.random.geometric(p=1-q,size=1)\n",
    "            #generate a geometric random integer, probability p\n",
    "        xx=x[0] #get the number in the array bc Python3-change\n",
    "        y=1+((xx-1)%m) #find y based on Mallows truncated geometric\n",
    "        if y==1:\n",
    "            L.append(m) #append m to end of the list\n",
    "        else :\n",
    "            L.insert(m+1-y,m)\n",
    "                #insert m at the m+1−y position in the list\n",
    "    return L\n",
    "\n",
    "\n",
    "length_list=1000 #change this variable to change n\n",
    "length_data=1000 #change this value to change\n",
    "#number of times program should\n",
    "#run to collect data\n",
    "\n",
    "data =[] # initialize array to hold data\n",
    "q=0.8 #change this value to change the Mallows q\n",
    "\n",
    "\n",
    "#create data\n",
    "for i in range(length_data) :\n",
    "    data.append(patience_sort(mallows(length_list,q)))\n",
    "    \n",
    "\n",
    "#create histogram for given data\n",
    "fig=plt.figure()\n",
    "ax=fig.add_subplot(111)\n",
    "n, bins, patches=ax.hist(data,10)\n",
    "ax.grid(True)\n",
    "plt.title('LLIS of a Mallows Permutation')\n",
    "plt.xlabel('Length of the Longest Increasing Subsequence')\n",
    "plt.ylabel('Number of occurences')\n",
    "plt.show( )\n"
   ]
  },
  {
   "cell_type": "code",
   "execution_count": 99,
   "id": "a6c6ecf9",
   "metadata": {},
   "outputs": [
    {
     "data": {
      "image/png": "[encoded data removed]",
      "text/plain": [
       "<Figure size 432x288 with 1 Axes>"
      ]
     },
     "metadata": {
      "needs_background": "light"
     },
     "output_type": "display_data"
    }
   ],
   "source": [
    "%run permutation.py"
   ]
  }
 ],
 "metadata": {
  "kernelspec": {
   "display_name": "Python 3",
   "language": "python",
   "name": "python3"
  },
  "language_info": {
   "codemirror_mode": {
    "name": "ipython",
    "version": 3
   },
   "file_extension": ".py",
   "mimetype": "text/x-python",
   "name": "python",
   "nbconvert_exporter": "python",
   "pygments_lexer": "ipython3",
   "version": "3.8.8"
  }
 },
 "nbformat": 4,
 "nbformat_minor": 5
}

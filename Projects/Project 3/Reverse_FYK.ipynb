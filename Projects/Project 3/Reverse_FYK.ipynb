{
 "cells": [
  {
   "cell_type": "code",
   "execution_count": 54,
   "id": "3a1b139c",
   "metadata": {},
   "outputs": [
    {
     "name": "stdout",
     "output_type": "stream",
     "text": [
      "Overwriting reverse_fyk.py\n"
     ]
    }
   ],
   "source": [
    "%%writefile reverse_fyk.py\n",
    "\n",
    "\n",
    "import numpy as np\n",
    "import random\n",
    "import math\n",
    "import bisect\n",
    "import matplotlib.pyplot as plt\n",
    "\n",
    "\n",
    "def find_min(numlist):\n",
    "    #This function finds the minimum of a list of numbers\n",
    "    #and returns the position of the (first occurrence of the) minimum\n",
    "    #Input :\n",
    "    # numlist : list of numbers to sort\n",
    "    #Output :\n",
    "    # position : an index for where the minimum is in the list\n",
    "    #\n",
    "    \n",
    "    temp_pos=0\n",
    "    temp_val=numlist[temp_pos]\n",
    "#    print(temp_val)\n",
    "    for i in range(1,len(numlist)):\n",
    "#        print(i)\n",
    "        if numlist[i] < temp_val :#check if numlist[i]<temp_val\n",
    "            temp_pos = i #if so update temp_pos to i\n",
    "            temp_val=numlist[temp_pos] #update temp_val\n",
    "        \n",
    "    return temp_pos\n",
    "\n",
    "def FYKdata(numlist):\n",
    "    #This function finds the reverse FYK permutation for a list of numbers\n",
    "    #FYK stands for Fisher Yates Knuth\n",
    "    #Input :\n",
    "    # numlist : list of numbers to sort\n",
    "    #Output :\n",
    "    # FYKlist : list of integers giving the FYK data of the permutation to sort it\n",
    "    #\n",
    "    \n",
    "    temp_numlist = numlist #we define a list for use in this definition\n",
    "    FYKlist = []; #our output data is this, initialized empty\n",
    "    for i in range(len(numlist)): #we run the find_min n times n=len(numlist)\n",
    "        temp_pos = find_min(temp_numlist) #we get the position from find_min\n",
    "        FYKlist.append(temp_pos) #we append that number to our FYK list data\n",
    "        temp_numlist.pop(temp_pos) #we pop that term in the temp numlist (remove)\n",
    "    \n",
    "    return FYKlist\n",
    "\n",
    "perm_length = 100 #change this to change the length of your original permutation\n",
    "perm_pi = np.random.permutation(perm_length) \n",
    "#use built in random command to make a (uniform) random permutation\n",
    "perm_pi_list = perm_pi.tolist() #change the array to just a list\n",
    "print(perm_pi_list) #we print the random list\n",
    "FYK_pi_data = FYKdata(perm_pi_list) #apply the reverse FYK algorithm to our perm\n",
    "print(FYK_pi_data) #we print the reverse FYK data"
   ]
  },
  {
   "cell_type": "code",
   "execution_count": 55,
   "id": "3a6c7a5f",
   "metadata": {},
   "outputs": [
    {
     "name": "stdout",
     "output_type": "stream",
     "text": [
      "[80, 26, 93, 84, 68, 56, 91, 4, 25, 55, 98, 88, 42, 62, 24, 16, 13, 27, 44, 76, 9, 50, 14, 40, 97, 70, 82, 57, 90, 30, 35, 10, 59, 20, 21, 69, 43, 87, 78, 15, 86, 85, 73, 7, 71, 17, 18, 65, 0, 60, 63, 67, 12, 5, 29, 58, 37, 11, 89, 92, 96, 34, 45, 48, 28, 6, 38, 23, 8, 95, 39, 31, 47, 83, 33, 94, 61, 53, 2, 1, 32, 74, 19, 3, 99, 22, 64, 77, 46, 81, 54, 52, 66, 49, 41, 72, 51, 36, 79, 75]\n",
      "[48, 78, 77, 80, 7, 51, 62, 42, 63, 19, 29, 51, 47, 15, 19, 34, 14, 37, 37, 64, 27, 27, 63, 50, 13, 7, 1, 11, 44, 35, 20, 45, 51, 47, 39, 20, 61, 34, 39, 40, 14, 54, 9, 20, 10, 33, 44, 35, 33, 46, 11, 46, 43, 36, 41, 6, 4, 12, 25, 13, 21, 29, 7, 20, 29, 19, 30, 19, 3, 11, 8, 15, 25, 14, 20, 24, 6, 20, 10, 20, 0, 18, 6, 14, 1, 8, 7, 6, 3, 5, 4, 1, 3, 0, 4, 3, 2, 1, 0, 0]\n"
     ]
    }
   ],
   "source": [
    "%run reverse_fyk.py"
   ]
  },
  {
   "cell_type": "code",
   "execution_count": null,
   "id": "7b001b23",
   "metadata": {},
   "outputs": [],
   "source": []
  }
 ],
 "metadata": {
  "kernelspec": {
   "display_name": "Python 3 (ipykernel)",
   "language": "python",
   "name": "python3"
  },
  "language_info": {
   "codemirror_mode": {
    "name": "ipython",
    "version": 3
   },
   "file_extension": ".py",
   "mimetype": "text/x-python",
   "name": "python",
   "nbconvert_exporter": "python",
   "pygments_lexer": "ipython3",
   "version": "3.9.7"
  }
 },
 "nbformat": 4,
 "nbformat_minor": 5
}
